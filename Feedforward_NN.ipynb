{
  "nbformat": 4,
  "nbformat_minor": 0,
  "metadata": {
    "colab": {
      "provenance": [],
      "authorship_tag": "ABX9TyPaH6vEVZgFa0tXjJwYMqj9",
      "include_colab_link": true
    },
    "kernelspec": {
      "name": "python3",
      "display_name": "Python 3"
    },
    "language_info": {
      "name": "python"
    }
  },
  "cells": [
    {
      "cell_type": "markdown",
      "metadata": {
        "id": "view-in-github",
        "colab_type": "text"
      },
      "source": [
        "<a href=\"https://colab.research.google.com/github/Nguthirukar/Nguthirukar/blob/main/Feedforward_NN.ipynb\" target=\"_parent\"><img src=\"https://colab.research.google.com/assets/colab-badge.svg\" alt=\"Open In Colab\"/></a>"
      ]
    },
    {
      "cell_type": "code",
      "execution_count": 1,
      "metadata": {
        "id": "S1sooSx03nkE"
      },
      "outputs": [],
      "source": [
        "import numpy as np"
      ]
    },
    {
      "cell_type": "code",
      "source": [
        "class NeuralNetwork:\n",
        "    def __init__(self, layer_sizes):\n",
        "        self.layer_sizes = layer_sizes\n",
        "        self.num_layers = len(layer_sizes)\n",
        "        self.weights = []\n",
        "        self.biases = []\n",
        "\n",
        "        # Initialize weights and biases\n",
        "        for i in range(self.num_layers - 1):\n",
        "            self.weights.append(np.random.randn(layer_sizes[i], layer_sizes[i + 1]))\n",
        "            self.biases.append(np.zeros((1, layer_sizes[i + 1])))\n",
        "\n",
        "    def sigmoid(self, x):\n",
        "        return 1 / (1 + np.exp(-x))\n",
        "\n",
        "    def sigmoid_derivative(self, x):\n",
        "        return x * (1 - x)\n",
        "\n",
        "    def forward_propagation(self, X):\n",
        "        self.layer_inputs = []\n",
        "        self.layer_outputs = [X]\n",
        "\n",
        "        for i in range(self.num_layers - 1):\n",
        "            layer_input = np.dot(self.layer_outputs[-1], self.weights[i]) + self.biases[i]\n",
        "            self.layer_inputs.append(layer_input)\n",
        "            layer_output = self.sigmoid(layer_input)\n",
        "            self.layer_outputs.append(layer_output)\n",
        "\n",
        "        return self.layer_outputs[-1]\n",
        "\n",
        "    def backpropagation(self, X, y, learning_rate):\n",
        "        output_error = y - self.layer_outputs[-1]\n",
        "        deltas = [output_error * self.sigmoid_derivative(self.layer_outputs[-1])]\n",
        "\n",
        "        # Backpropagate the error\n",
        "        for i in range(self.num_layers - 2, 0, -1):\n",
        "            delta = deltas[-1].dot(self.weights[i].T) * self.sigmoid_derivative(self.layer_outputs[i])\n",
        "            deltas.append(delta)\n",
        "\n",
        "        deltas.reverse()\n",
        "\n",
        "        # Update weights and biases\n",
        "        for i in range(self.num_layers - 1):\n",
        "            self.weights[i] += self.layer_outputs[i].T.dot(deltas[i]) * learning_rate\n",
        "            self.biases[i] += np.sum(deltas[i], axis=0, keepdims=True) * learning_rate\n",
        "\n",
        "    def train(self, X, y, learning_rate, epochs):\n",
        "        for epoch in range(epochs):\n",
        "            self.forward_propagation(X)\n",
        "            self.backpropagation(X, y, learning_rate)\n",
        "            if (epoch + 1) % 1000 == 0:\n",
        "                loss = np.mean(np.square(y - self.layer_outputs[-1]))\n",
        "                print(f'Epoch {epoch + 1}/{epochs}, Loss: {loss}')\n"
      ],
      "metadata": {
        "id": "PBaIso4i318g"
      },
      "execution_count": 8,
      "outputs": []
    },
    {
      "cell_type": "code",
      "source": [
        "# Sample data\n",
        "X = np.array([[0, 0],\n",
        "              [0, 1],\n",
        "              [1, 0],\n",
        "              [1, 1]])\n",
        "y = np.array([[0],\n",
        "              [1],\n",
        "              [1],\n",
        "              [0]])\n",
        "\n",
        "# the structure of the neural network\n",
        "layer_sizes = [2, 3, 3, 1]\n",
        "\n",
        "# Hyperparameters\n",
        "learning_rate = 0.1\n",
        "epochs = 10000\n",
        "\n",
        "# Initialize and train the neural network\n",
        "nn = NeuralNetwork(layer_sizes)\n",
        "nn.train(X, y, learning_rate, epochs)\n",
        "\n",
        "# Test the neural network\n",
        "output = nn.forward_propagation(X)\n",
        "print(\"Predicted Output:\")\n",
        "print(output)\n"
      ],
      "metadata": {
        "colab": {
          "base_uri": "https://localhost:8080/"
        },
        "id": "3z9iqzAe4ISq",
        "outputId": "ed986b07-cca3-4842-fef6-d23c4cddbadd"
      },
      "execution_count": 10,
      "outputs": [
        {
          "output_type": "stream",
          "name": "stdout",
          "text": [
            "Epoch 1000/10000, Loss: 0.24630910329129102\n",
            "Epoch 2000/10000, Loss: 0.2300032384936312\n",
            "Epoch 3000/10000, Loss: 0.18268875445998245\n",
            "Epoch 4000/10000, Loss: 0.14129403019845213\n",
            "Epoch 5000/10000, Loss: 0.03323041657247043\n",
            "Epoch 6000/10000, Loss: 0.011099747215827554\n",
            "Epoch 7000/10000, Loss: 0.005884085287867554\n",
            "Epoch 8000/10000, Loss: 0.003843213995170757\n",
            "Epoch 9000/10000, Loss: 0.0028006460603645107\n",
            "Epoch 10000/10000, Loss: 0.0021804163392827643\n",
            "Predicted Output:\n",
            "[[0.04114972]\n",
            " [0.95168607]\n",
            " [0.95358304]\n",
            " [0.05037488]]\n"
          ]
        }
      ]
    },
    {
      "cell_type": "code",
      "source": [
        "# Test the neural network\n",
        "output = nn.forward_propagation(X)\n",
        "print(\"Predicted Output:\")\n",
        "print(output)\n"
      ],
      "metadata": {
        "colab": {
          "base_uri": "https://localhost:8080/"
        },
        "id": "I2EZAb1o4MVb",
        "outputId": "1f7c32f1-b8ee-41c9-af8e-09b59bf0d1cf"
      },
      "execution_count": 11,
      "outputs": [
        {
          "output_type": "stream",
          "name": "stdout",
          "text": [
            "Predicted Output:\n",
            "[[0.04114972]\n",
            " [0.95168607]\n",
            " [0.95358304]\n",
            " [0.05037488]]\n"
          ]
        }
      ]
    },
    {
      "cell_type": "code",
      "source": [
        "from graphviz import Digraph"
      ],
      "metadata": {
        "id": "brOU_pNvAvqb"
      },
      "execution_count": 12,
      "outputs": []
    },
    {
      "cell_type": "code",
      "source": [
        "def visualize_neural_network(nn):\n",
        "    dot = Digraph()\n",
        "    dot.attr(rankdir='LR', size='10')\n",
        "\n",
        "    # Adding input layer\n",
        "    with dot.subgraph(name='cluster_input') as c:\n",
        "        c.attr(color='white')\n",
        "        for i in range(nn.layer_sizes[0]):\n",
        "            c.node(f'Input_{i}', shape='circle', style='filled', color='lightblue', label=f'Input {i+1}')\n",
        "        c.attr(label='Input Layer')\n",
        "\n",
        "    # Adding hidden layers\n",
        "    for l in range(1, nn.num_layers - 1):\n",
        "        with dot.subgraph(name=f'cluster_hidden_{l}') as c:\n",
        "            c.attr(color='white')\n",
        "            for i in range(nn.layer_sizes[l]):\n",
        "                c.node(f'Hidden_{l}_{i}', shape='circle', style='filled', color='lightgreen', label=f'Hidden {l}.{i+1}')\n",
        "            c.attr(label=f'Hidden Layer {l}')\n",
        "\n",
        "    # Adding output layer\n",
        "    with dot.subgraph(name='cluster_output') as c:\n",
        "        c.attr(color='white')\n",
        "        for i in range(nn.layer_sizes[-1]):\n",
        "            c.node(f'Output_{i}', shape='circle', style='filled', color='lightcoral', label=f'Output {i+1}')\n",
        "        c.attr(label='Output Layer')\n",
        "\n",
        "    # Adding edges for input to first hidden layer\n",
        "    for i in range(nn.layer_sizes[0]):\n",
        "        for j in range(nn.layer_sizes[1]):\n",
        "            dot.edge(f'Input_{i}', f'Hidden_1_{j}')\n",
        "\n",
        "    # Adding edges for hidden layers\n",
        "    for l in range(1, nn.num_layers - 2):\n",
        "        for i in range(nn.layer_sizes[l]):\n",
        "            for j in range(nn.layer_sizes[l + 1]):\n",
        "                dot.edge(f'Hidden_{l}_{i}', f'Hidden_{l + 1}_{j}')\n",
        "\n",
        "    for i in range(nn.layer_sizes[-2]):\n",
        "        for j in range(nn.layer_sizes[-1]):\n",
        "            dot.edge(f'Hidden_{nn.num_layers - 2}_{i}', f'Output_{j}')\n",
        "\n",
        "    return dot\n"
      ],
      "metadata": {
        "id": "23Q7xNRsAsFj"
      },
      "execution_count": 13,
      "outputs": []
    },
    {
      "cell_type": "code",
      "source": [
        "dot = visualize_neural_network(nn)\n",
        "dot.render('neural_network', format='png', cleanup=True)\n",
        "dot"
      ],
      "metadata": {
        "colab": {
          "base_uri": "https://localhost:8080/",
          "height": 553
        },
        "id": "hlaRZs9GBGK8",
        "outputId": "289e2fd9-3590-4e06-c636-afd54c254eb9"
      },
      "execution_count": 15,
      "outputs": [
        {
          "output_type": "execute_result",
          "data": {
            "image/svg+xml": "<?xml version=\"1.0\" encoding=\"UTF-8\" standalone=\"no\"?>\n<!DOCTYPE svg PUBLIC \"-//W3C//DTD SVG 1.1//EN\"\n \"http://www.w3.org/Graphics/SVG/1.1/DTD/svg11.dtd\">\n<!-- Generated by graphviz version 2.43.0 (0)\n -->\n<!-- Title: %3 Pages: 1 -->\n<svg width=\"505pt\" height=\"399pt\"\n viewBox=\"0.00 0.00 505.47 399.00\" xmlns=\"http://www.w3.org/2000/svg\" xmlns:xlink=\"http://www.w3.org/1999/xlink\">\n<g id=\"graph0\" class=\"graph\" transform=\"scale(1 1) rotate(0) translate(4 395)\">\n<title>%3</title>\n<polygon fill=\"white\" stroke=\"transparent\" points=\"-4,4 -4,-395 501.47,-395 501.47,4 -4,4\"/>\n<g id=\"clust1\" class=\"cluster\">\n<title>cluster_input</title>\n<polygon fill=\"none\" stroke=\"white\" points=\"8,-94 8,-296 96.79,-296 96.79,-94 8,-94\"/>\n<text text-anchor=\"middle\" x=\"52.4\" y=\"-280.8\" font-family=\"Times,serif\" font-size=\"14.00\">Input Layer</text>\n</g>\n<g id=\"clust2\" class=\"cluster\">\n<title>cluster_hidden_1</title>\n<polygon fill=\"none\" stroke=\"white\" points=\"116.79,-8 116.79,-383 232.88,-383 232.88,-8 116.79,-8\"/>\n<text text-anchor=\"middle\" x=\"174.84\" y=\"-367.8\" font-family=\"Times,serif\" font-size=\"14.00\">Hidden Layer 1</text>\n</g>\n<g id=\"clust3\" class=\"cluster\">\n<title>cluster_hidden_2</title>\n<polygon fill=\"none\" stroke=\"white\" points=\"252.88,-8 252.88,-383 368.98,-383 368.98,-8 252.88,-8\"/>\n<text text-anchor=\"middle\" x=\"310.93\" y=\"-367.8\" font-family=\"Times,serif\" font-size=\"14.00\">Hidden Layer 2</text>\n</g>\n<g id=\"clust4\" class=\"cluster\">\n<title>cluster_output</title>\n<polygon fill=\"none\" stroke=\"white\" points=\"388.98,-134 388.98,-257 489.47,-257 489.47,-134 388.98,-134\"/>\n<text text-anchor=\"middle\" x=\"439.22\" y=\"-241.8\" font-family=\"Times,serif\" font-size=\"14.00\">Output Layer</text>\n</g>\n<!-- Input_0 -->\n<g id=\"node1\" class=\"node\">\n<title>Input_0</title>\n<ellipse fill=\"lightblue\" stroke=\"lightblue\" cx=\"52.4\" cy=\"-229\" rx=\"36.29\" ry=\"36.29\"/>\n<text text-anchor=\"middle\" x=\"52.4\" y=\"-225.3\" font-family=\"Times,serif\" font-size=\"14.00\">Input 1</text>\n</g>\n<!-- Hidden_1_0 -->\n<g id=\"node3\" class=\"node\">\n<title>Hidden_1_0</title>\n<ellipse fill=\"lightgreen\" stroke=\"lightgreen\" cx=\"174.84\" cy=\"-66\" rx=\"50.09\" ry=\"50.09\"/>\n<text text-anchor=\"middle\" x=\"174.84\" y=\"-62.3\" font-family=\"Times,serif\" font-size=\"14.00\">Hidden 1.1</text>\n</g>\n<!-- Input_0&#45;&gt;Hidden_1_0 -->\n<g id=\"edge1\" class=\"edge\">\n<title>Input_0&#45;&gt;Hidden_1_0</title>\n<path fill=\"none\" stroke=\"black\" d=\"M79.83,-204.81C86.01,-198.19 92.13,-190.7 96.79,-183 110.91,-159.67 102.53,-148.24 116.79,-125 120.64,-118.74 125.24,-112.61 130.15,-106.8\"/>\n<polygon fill=\"black\" stroke=\"black\" points=\"132.96,-108.91 136.99,-99.12 127.73,-104.26 132.96,-108.91\"/>\n</g>\n<!-- Hidden_1_1 -->\n<g id=\"node4\" class=\"node\">\n<title>Hidden_1_1</title>\n<ellipse fill=\"lightgreen\" stroke=\"lightgreen\" cx=\"174.84\" cy=\"-302\" rx=\"50.09\" ry=\"50.09\"/>\n<text text-anchor=\"middle\" x=\"174.84\" y=\"-298.3\" font-family=\"Times,serif\" font-size=\"14.00\">Hidden 1.2</text>\n</g>\n<!-- Input_0&#45;&gt;Hidden_1_1 -->\n<g id=\"edge2\" class=\"edge\">\n<title>Input_0&#45;&gt;Hidden_1_1</title>\n<path fill=\"none\" stroke=\"black\" d=\"M83.79,-247.42C95.68,-254.63 109.65,-263.09 122.98,-271.18\"/>\n<polygon fill=\"black\" stroke=\"black\" points=\"121.26,-274.23 131.63,-276.42 124.89,-268.24 121.26,-274.23\"/>\n</g>\n<!-- Hidden_1_2 -->\n<g id=\"node5\" class=\"node\">\n<title>Hidden_1_2</title>\n<ellipse fill=\"lightgreen\" stroke=\"lightgreen\" cx=\"174.84\" cy=\"-184\" rx=\"50.09\" ry=\"50.09\"/>\n<text text-anchor=\"middle\" x=\"174.84\" y=\"-180.3\" font-family=\"Times,serif\" font-size=\"14.00\">Hidden 1.3</text>\n</g>\n<!-- Input_0&#45;&gt;Hidden_1_2 -->\n<g id=\"edge3\" class=\"edge\">\n<title>Input_0&#45;&gt;Hidden_1_2</title>\n<path fill=\"none\" stroke=\"black\" d=\"M86.63,-216.58C96.43,-212.92 107.43,-208.81 118.24,-204.77\"/>\n<polygon fill=\"black\" stroke=\"black\" points=\"119.5,-208.04 127.65,-201.26 117.05,-201.48 119.5,-208.04\"/>\n</g>\n<!-- Input_1 -->\n<g id=\"node2\" class=\"node\">\n<title>Input_1</title>\n<ellipse fill=\"lightblue\" stroke=\"lightblue\" cx=\"52.4\" cy=\"-138\" rx=\"36.29\" ry=\"36.29\"/>\n<text text-anchor=\"middle\" x=\"52.4\" y=\"-134.3\" font-family=\"Times,serif\" font-size=\"14.00\">Input 2</text>\n</g>\n<!-- Input_1&#45;&gt;Hidden_1_0 -->\n<g id=\"edge4\" class=\"edge\">\n<title>Input_1&#45;&gt;Hidden_1_0</title>\n<path fill=\"none\" stroke=\"black\" d=\"M84.1,-119.65C95.77,-112.67 109.39,-104.52 122.46,-96.72\"/>\n<polygon fill=\"black\" stroke=\"black\" points=\"124.59,-99.52 131.38,-91.38 121,-93.51 124.59,-99.52\"/>\n</g>\n<!-- Input_1&#45;&gt;Hidden_1_1 -->\n<g id=\"edge5\" class=\"edge\">\n<title>Input_1&#45;&gt;Hidden_1_1</title>\n<path fill=\"none\" stroke=\"black\" d=\"M79.86,-162.17C86.03,-168.79 92.15,-176.29 96.79,-184 111.07,-207.73 102.38,-219.36 116.79,-243 120.62,-249.27 125.22,-255.41 130.12,-261.22\"/>\n<polygon fill=\"black\" stroke=\"black\" points=\"127.7,-263.76 136.96,-268.91 132.93,-259.11 127.7,-263.76\"/>\n</g>\n<!-- Input_1&#45;&gt;Hidden_1_2 -->\n<g id=\"edge6\" class=\"edge\">\n<title>Input_1&#45;&gt;Hidden_1_2</title>\n<path fill=\"none\" stroke=\"black\" d=\"M86.63,-150.69C96.43,-154.43 107.43,-158.64 118.24,-162.76\"/>\n<polygon fill=\"black\" stroke=\"black\" points=\"117.06,-166.06 127.65,-166.36 119.55,-159.52 117.06,-166.06\"/>\n</g>\n<!-- Hidden_2_0 -->\n<g id=\"node6\" class=\"node\">\n<title>Hidden_2_0</title>\n<ellipse fill=\"lightgreen\" stroke=\"lightgreen\" cx=\"310.93\" cy=\"-66\" rx=\"50.09\" ry=\"50.09\"/>\n<text text-anchor=\"middle\" x=\"310.93\" y=\"-62.3\" font-family=\"Times,serif\" font-size=\"14.00\">Hidden 2.1</text>\n</g>\n<!-- Hidden_1_0&#45;&gt;Hidden_2_0 -->\n<g id=\"edge7\" class=\"edge\">\n<title>Hidden_1_0&#45;&gt;Hidden_2_0</title>\n<path fill=\"none\" stroke=\"black\" d=\"M225.01,-66C233.3,-66 241.98,-66 250.5,-66\"/>\n<polygon fill=\"black\" stroke=\"black\" points=\"250.77,-69.5 260.77,-66 250.77,-62.5 250.77,-69.5\"/>\n</g>\n<!-- Hidden_2_1 -->\n<g id=\"node7\" class=\"node\">\n<title>Hidden_2_1</title>\n<ellipse fill=\"lightgreen\" stroke=\"lightgreen\" cx=\"310.93\" cy=\"-302\" rx=\"50.09\" ry=\"50.09\"/>\n<text text-anchor=\"middle\" x=\"310.93\" y=\"-298.3\" font-family=\"Times,serif\" font-size=\"14.00\">Hidden 2.2</text>\n</g>\n<!-- Hidden_1_0&#45;&gt;Hidden_2_1 -->\n<g id=\"edge8\" class=\"edge\">\n<title>Hidden_1_0&#45;&gt;Hidden_2_1</title>\n<path fill=\"none\" stroke=\"black\" d=\"M213.54,-98.16C220.98,-106.21 228,-115.34 232.88,-125 256.89,-172.47 228.88,-195.53 252.88,-243 256.24,-249.64 260.61,-256.03 265.43,-261.99\"/>\n<polygon fill=\"black\" stroke=\"black\" points=\"263.04,-264.58 272.23,-269.84 268.33,-259.99 263.04,-264.58\"/>\n</g>\n<!-- Hidden_2_2 -->\n<g id=\"node8\" class=\"node\">\n<title>Hidden_2_2</title>\n<ellipse fill=\"lightgreen\" stroke=\"lightgreen\" cx=\"310.93\" cy=\"-184\" rx=\"50.09\" ry=\"50.09\"/>\n<text text-anchor=\"middle\" x=\"310.93\" y=\"-180.3\" font-family=\"Times,serif\" font-size=\"14.00\">Hidden 2.3</text>\n</g>\n<!-- Hidden_1_0&#45;&gt;Hidden_2_2 -->\n<g id=\"edge9\" class=\"edge\">\n<title>Hidden_1_0&#45;&gt;Hidden_2_2</title>\n<path fill=\"none\" stroke=\"black\" d=\"M213.19,-98.87C229.32,-113.06 248.32,-129.78 265.19,-144.63\"/>\n<polygon fill=\"black\" stroke=\"black\" points=\"262.96,-147.33 272.78,-151.31 267.58,-142.07 262.96,-147.33\"/>\n</g>\n<!-- Hidden_1_1&#45;&gt;Hidden_2_0 -->\n<g id=\"edge10\" class=\"edge\">\n<title>Hidden_1_1&#45;&gt;Hidden_2_0</title>\n<path fill=\"none\" stroke=\"black\" d=\"M213.54,-269.84C220.98,-261.79 228,-252.66 232.88,-243 256.89,-195.53 228.88,-172.47 252.88,-125 256.24,-118.36 260.61,-111.97 265.43,-106.01\"/>\n<polygon fill=\"black\" stroke=\"black\" points=\"268.33,-108.01 272.23,-98.16 263.04,-103.42 268.33,-108.01\"/>\n</g>\n<!-- Hidden_1_1&#45;&gt;Hidden_2_1 -->\n<g id=\"edge11\" class=\"edge\">\n<title>Hidden_1_1&#45;&gt;Hidden_2_1</title>\n<path fill=\"none\" stroke=\"black\" d=\"M225.01,-302C233.3,-302 241.98,-302 250.5,-302\"/>\n<polygon fill=\"black\" stroke=\"black\" points=\"250.77,-305.5 260.77,-302 250.77,-298.5 250.77,-305.5\"/>\n</g>\n<!-- Hidden_1_1&#45;&gt;Hidden_2_2 -->\n<g id=\"edge12\" class=\"edge\">\n<title>Hidden_1_1&#45;&gt;Hidden_2_2</title>\n<path fill=\"none\" stroke=\"black\" d=\"M213.19,-269.13C229.32,-254.94 248.32,-238.22 265.19,-223.37\"/>\n<polygon fill=\"black\" stroke=\"black\" points=\"267.58,-225.93 272.78,-216.69 262.96,-220.67 267.58,-225.93\"/>\n</g>\n<!-- Hidden_1_2&#45;&gt;Hidden_2_0 -->\n<g id=\"edge13\" class=\"edge\">\n<title>Hidden_1_2&#45;&gt;Hidden_2_0</title>\n<path fill=\"none\" stroke=\"black\" d=\"M213.19,-151.13C229.32,-136.94 248.32,-120.22 265.19,-105.37\"/>\n<polygon fill=\"black\" stroke=\"black\" points=\"267.58,-107.93 272.78,-98.69 262.96,-102.67 267.58,-107.93\"/>\n</g>\n<!-- Hidden_1_2&#45;&gt;Hidden_2_1 -->\n<g id=\"edge14\" class=\"edge\">\n<title>Hidden_1_2&#45;&gt;Hidden_2_1</title>\n<path fill=\"none\" stroke=\"black\" d=\"M213.19,-216.87C229.32,-231.06 248.32,-247.78 265.19,-262.63\"/>\n<polygon fill=\"black\" stroke=\"black\" points=\"262.96,-265.33 272.78,-269.31 267.58,-260.07 262.96,-265.33\"/>\n</g>\n<!-- Hidden_1_2&#45;&gt;Hidden_2_2 -->\n<g id=\"edge15\" class=\"edge\">\n<title>Hidden_1_2&#45;&gt;Hidden_2_2</title>\n<path fill=\"none\" stroke=\"black\" d=\"M225.01,-184C233.3,-184 241.98,-184 250.5,-184\"/>\n<polygon fill=\"black\" stroke=\"black\" points=\"250.77,-187.5 260.77,-184 250.77,-180.5 250.77,-187.5\"/>\n</g>\n<!-- Output_0 -->\n<g id=\"node9\" class=\"node\">\n<title>Output_0</title>\n<ellipse fill=\"lightcoral\" stroke=\"lightcoral\" cx=\"439.22\" cy=\"-184\" rx=\"42.49\" ry=\"42.49\"/>\n<text text-anchor=\"middle\" x=\"439.22\" y=\"-180.3\" font-family=\"Times,serif\" font-size=\"14.00\">Output 1</text>\n</g>\n<!-- Hidden_2_0&#45;&gt;Output_0 -->\n<g id=\"edge16\" class=\"edge\">\n<title>Hidden_2_0&#45;&gt;Output_0</title>\n<path fill=\"none\" stroke=\"black\" d=\"M348.12,-99.81C364.43,-115.05 383.69,-133.05 400.21,-148.48\"/>\n<polygon fill=\"black\" stroke=\"black\" points=\"397.89,-151.1 407.58,-155.37 402.67,-145.99 397.89,-151.1\"/>\n</g>\n<!-- Hidden_2_1&#45;&gt;Output_0 -->\n<g id=\"edge17\" class=\"edge\">\n<title>Hidden_2_1&#45;&gt;Output_0</title>\n<path fill=\"none\" stroke=\"black\" d=\"M348.12,-268.19C364.43,-252.95 383.69,-234.95 400.21,-219.52\"/>\n<polygon fill=\"black\" stroke=\"black\" points=\"402.67,-222.01 407.58,-212.63 397.89,-216.9 402.67,-222.01\"/>\n</g>\n<!-- Hidden_2_2&#45;&gt;Output_0 -->\n<g id=\"edge18\" class=\"edge\">\n<title>Hidden_2_2&#45;&gt;Output_0</title>\n<path fill=\"none\" stroke=\"black\" d=\"M361.12,-184C369.49,-184 378.21,-184 386.64,-184\"/>\n<polygon fill=\"black\" stroke=\"black\" points=\"386.74,-187.5 396.74,-184 386.74,-180.5 386.74,-187.5\"/>\n</g>\n</g>\n</svg>\n",
            "text/plain": [
              "<graphviz.graphs.Digraph at 0x7de445c5b130>"
            ]
          },
          "metadata": {},
          "execution_count": 15
        }
      ]
    }
  ]
}