{
  "nbformat": 4,
  "nbformat_minor": 0,
  "metadata": {
    "colab": {
      "provenance": [],
      "authorship_tag": "ABX9TyMuWlw9dNplGYnbyGHCl+YV",
      "include_colab_link": true
    },
    "kernelspec": {
      "name": "python3",
      "display_name": "Python 3"
    },
    "language_info": {
      "name": "python"
    }
  },
  "cells": [
    {
      "cell_type": "markdown",
      "metadata": {
        "id": "view-in-github",
        "colab_type": "text"
      },
      "source": [
        "<a href=\"https://colab.research.google.com/github/Nguthirukar/Nguthirukar/blob/main/NCBA_Validator.ipynb\" target=\"_parent\"><img src=\"https://colab.research.google.com/assets/colab-badge.svg\" alt=\"Open In Colab\"/></a>"
      ]
    },
    {
      "cell_type": "code",
      "source": [
        "import pandas as pd\n",
        "import os\n",
        "from google.colab import files\n",
        "def read_excel(file_path, sheet_name):\n",
        "    return pd.read_excel(file_path, sheet_name=sheet_name)\n",
        "\n",
        "def validate_structure(df1, df2):\n",
        "    # Checking if columns are identical\n",
        "    return df1.columns.tolist() == df2.columns.tolist()\n",
        "\n",
        "def validate_data(df1, df2):\n",
        "    # Checking if data is identical\n",
        "    return df1.equals(df2)\n",
        "\n",
        "def merge_reports(df1, df2):\n",
        "    return pd.concat([df1, df2]).drop_duplicates().reset_index(drop=True)\n",
        "\n",
        "def main(file1, sheet1, file2, sheet2):\n",
        "    # Read the reports\n",
        "    df1 = read_excel(file1, sheet1)\n",
        "    df2 = read_excel(file2, sheet2)\n",
        "\n",
        "    # Validate the structure\n",
        "    if not validate_structure(df1, df2):\n",
        "        print(\"Alert: The data structure is different.\")\n",
        "        return\n",
        "\n",
        "    # Validate the data\n",
        "    if validate_data(df1, df2):\n",
        "        print(\"The data is identical.\")\n",
        "    else:\n",
        "        merged_df = merge_reports(df1, df2)\n",
        "        print(\"The data is not identical. Merged DataFrame:\")\n",
        "        # Assuming 'Entities' is the column to group by\n",
        "        grouped_df = merged_df.groupby('Entities')\n",
        "        for name, group in grouped_df:\n",
        "            print(f\"Group: {name}\")\n",
        "            print(group)\n",
        "            # It saves each group to a separate CSV file\n",
        "            group.to_csv(f'Variance_{name}.csv', index=False)\n",
        "            files.download(f'Variance_{name}.csv')\n",
        "# Validator Prompt(Key in the File Path and the sheet name)\n",
        "file1 = 'BPC Report.xlsx'\n",
        "sheet1 = 'MOM Report'\n",
        "file2 = 'BW Report.xlsx'\n",
        "sheet2 = 'MOM Report'\n",
        "\n",
        "main(file1, sheet1, file2, sheet2)"
      ],
      "metadata": {
        "colab": {
          "base_uri": "https://localhost:8080/",
          "height": 555
        },
        "id": "wo_EYhxTX4bW",
        "outputId": "630b08aa-9db6-4cfd-8205-b821171ff580"
      },
      "execution_count": 14,
      "outputs": [
        {
          "output_type": "stream",
          "name": "stdout",
          "text": [
            "The data is not identical. Merged DataFrame:\n",
            "Group: Consilidated\n",
            "       Entities      June      July     August    Budget  Forecasts  \\\n",
            "2  Consilidated  67452239  36749091  784091826  68029332    6745269   \n",
            "\n",
            "   Budget vs Forecast  \n",
            "2           10.085488  \n"
          ]
        },
        {
          "output_type": "display_data",
          "data": {
            "text/plain": [
              "<IPython.core.display.Javascript object>"
            ],
            "application/javascript": [
              "\n",
              "    async function download(id, filename, size) {\n",
              "      if (!google.colab.kernel.accessAllowed) {\n",
              "        return;\n",
              "      }\n",
              "      const div = document.createElement('div');\n",
              "      const label = document.createElement('label');\n",
              "      label.textContent = `Downloading \"${filename}\": `;\n",
              "      div.appendChild(label);\n",
              "      const progress = document.createElement('progress');\n",
              "      progress.max = size;\n",
              "      div.appendChild(progress);\n",
              "      document.body.appendChild(div);\n",
              "\n",
              "      const buffers = [];\n",
              "      let downloaded = 0;\n",
              "\n",
              "      const channel = await google.colab.kernel.comms.open(id);\n",
              "      // Send a message to notify the kernel that we're ready.\n",
              "      channel.send({})\n",
              "\n",
              "      for await (const message of channel.messages) {\n",
              "        // Send a message to notify the kernel that we're ready.\n",
              "        channel.send({})\n",
              "        if (message.buffers) {\n",
              "          for (const buffer of message.buffers) {\n",
              "            buffers.push(buffer);\n",
              "            downloaded += buffer.byteLength;\n",
              "            progress.value = downloaded;\n",
              "          }\n",
              "        }\n",
              "      }\n",
              "      const blob = new Blob(buffers, {type: 'application/binary'});\n",
              "      const a = document.createElement('a');\n",
              "      a.href = window.URL.createObjectURL(blob);\n",
              "      a.download = filename;\n",
              "      div.appendChild(a);\n",
              "      a.click();\n",
              "      div.remove();\n",
              "    }\n",
              "  "
            ]
          },
          "metadata": {}
        },
        {
          "output_type": "display_data",
          "data": {
            "text/plain": [
              "<IPython.core.display.Javascript object>"
            ],
            "application/javascript": [
              "download(\"download_6278fba5-714d-4c2e-9332-ff5b76ad1d08\", \"Variance_Consilidated.csv\", 132)"
            ]
          },
          "metadata": {}
        },
        {
          "output_type": "stream",
          "name": "stdout",
          "text": [
            "Group: Gross Transaction\n",
            "            Entities        June       July     August     Budget  Forecasts  \\\n",
            "1  Gross Transaction  1234578921   15638891  749928102    7848729   93052671   \n",
            "5  Gross Transaction  1234578921  156388672    7499281  784872975   93052671   \n",
            "\n",
            "   Budget vs Forecast  \n",
            "1            0.084347  \n",
            "5            8.434717  \n"
          ]
        },
        {
          "output_type": "display_data",
          "data": {
            "text/plain": [
              "<IPython.core.display.Javascript object>"
            ],
            "application/javascript": [
              "\n",
              "    async function download(id, filename, size) {\n",
              "      if (!google.colab.kernel.accessAllowed) {\n",
              "        return;\n",
              "      }\n",
              "      const div = document.createElement('div');\n",
              "      const label = document.createElement('label');\n",
              "      label.textContent = `Downloading \"${filename}\": `;\n",
              "      div.appendChild(label);\n",
              "      const progress = document.createElement('progress');\n",
              "      progress.max = size;\n",
              "      div.appendChild(progress);\n",
              "      document.body.appendChild(div);\n",
              "\n",
              "      const buffers = [];\n",
              "      let downloaded = 0;\n",
              "\n",
              "      const channel = await google.colab.kernel.comms.open(id);\n",
              "      // Send a message to notify the kernel that we're ready.\n",
              "      channel.send({})\n",
              "\n",
              "      for await (const message of channel.messages) {\n",
              "        // Send a message to notify the kernel that we're ready.\n",
              "        channel.send({})\n",
              "        if (message.buffers) {\n",
              "          for (const buffer of message.buffers) {\n",
              "            buffers.push(buffer);\n",
              "            downloaded += buffer.byteLength;\n",
              "            progress.value = downloaded;\n",
              "          }\n",
              "        }\n",
              "      }\n",
              "      const blob = new Blob(buffers, {type: 'application/binary'});\n",
              "      const a = document.createElement('a');\n",
              "      a.href = window.URL.createObjectURL(blob);\n",
              "      a.download = filename;\n",
              "      div.appendChild(a);\n",
              "      a.click();\n",
              "      div.remove();\n",
              "    }\n",
              "  "
            ]
          },
          "metadata": {}
        },
        {
          "output_type": "display_data",
          "data": {
            "text/plain": [
              "<IPython.core.display.Javascript object>"
            ],
            "application/javascript": [
              "download(\"download_fa8b256a-cb32-4631-9d03-6c0acc893b1f\", \"Variance_Gross Transaction.csv\", 219)"
            ]
          },
          "metadata": {}
        },
        {
          "output_type": "stream",
          "name": "stdout",
          "text": [
            "Group: Profit before Tax\n",
            "            Entities      June      July      August       Budget   Forecasts  \\\n",
            "0  Profit before Tax  12230990  16377393  1891746581      9361781   546947914   \n",
            "4  Profit before Tax  12230990  16377393  1891746581  93617853452  5469479198   \n",
            "\n",
            "   Budget vs Forecast  \n",
            "0            0.017116  \n",
            "4           17.116411  \n"
          ]
        },
        {
          "output_type": "display_data",
          "data": {
            "text/plain": [
              "<IPython.core.display.Javascript object>"
            ],
            "application/javascript": [
              "\n",
              "    async function download(id, filename, size) {\n",
              "      if (!google.colab.kernel.accessAllowed) {\n",
              "        return;\n",
              "      }\n",
              "      const div = document.createElement('div');\n",
              "      const label = document.createElement('label');\n",
              "      label.textContent = `Downloading \"${filename}\": `;\n",
              "      div.appendChild(label);\n",
              "      const progress = document.createElement('progress');\n",
              "      progress.max = size;\n",
              "      div.appendChild(progress);\n",
              "      document.body.appendChild(div);\n",
              "\n",
              "      const buffers = [];\n",
              "      let downloaded = 0;\n",
              "\n",
              "      const channel = await google.colab.kernel.comms.open(id);\n",
              "      // Send a message to notify the kernel that we're ready.\n",
              "      channel.send({})\n",
              "\n",
              "      for await (const message of channel.messages) {\n",
              "        // Send a message to notify the kernel that we're ready.\n",
              "        channel.send({})\n",
              "        if (message.buffers) {\n",
              "          for (const buffer of message.buffers) {\n",
              "            buffers.push(buffer);\n",
              "            downloaded += buffer.byteLength;\n",
              "            progress.value = downloaded;\n",
              "          }\n",
              "        }\n",
              "      }\n",
              "      const blob = new Blob(buffers, {type: 'application/binary'});\n",
              "      const a = document.createElement('a');\n",
              "      a.href = window.URL.createObjectURL(blob);\n",
              "      a.download = filename;\n",
              "      div.appendChild(a);\n",
              "      a.click();\n",
              "      div.remove();\n",
              "    }\n",
              "  "
            ]
          },
          "metadata": {}
        },
        {
          "output_type": "display_data",
          "data": {
            "text/plain": [
              "<IPython.core.display.Javascript object>"
            ],
            "application/javascript": [
              "download(\"download_29824f2f-6e8b-4c5d-b5c0-66bdb26d0d89\", \"Variance_Profit before Tax.csv\", 223)"
            ]
          },
          "metadata": {}
        },
        {
          "output_type": "stream",
          "name": "stdout",
          "text": [
            "Group: Total\n",
            "  Entities        June       July      August       Budget   Forecasts  \\\n",
            "3    Total  1314262150   68765375  3425766509     85239842   646745854   \n",
            "6    Total  1314262150  209515156  2683337688  94470755759  5569277138   \n",
            "\n",
            "   Budget vs Forecast  \n",
            "3            0.131798  \n",
            "6           16.962840  \n"
          ]
        },
        {
          "output_type": "display_data",
          "data": {
            "text/plain": [
              "<IPython.core.display.Javascript object>"
            ],
            "application/javascript": [
              "\n",
              "    async function download(id, filename, size) {\n",
              "      if (!google.colab.kernel.accessAllowed) {\n",
              "        return;\n",
              "      }\n",
              "      const div = document.createElement('div');\n",
              "      const label = document.createElement('label');\n",
              "      label.textContent = `Downloading \"${filename}\": `;\n",
              "      div.appendChild(label);\n",
              "      const progress = document.createElement('progress');\n",
              "      progress.max = size;\n",
              "      div.appendChild(progress);\n",
              "      document.body.appendChild(div);\n",
              "\n",
              "      const buffers = [];\n",
              "      let downloaded = 0;\n",
              "\n",
              "      const channel = await google.colab.kernel.comms.open(id);\n",
              "      // Send a message to notify the kernel that we're ready.\n",
              "      channel.send({})\n",
              "\n",
              "      for await (const message of channel.messages) {\n",
              "        // Send a message to notify the kernel that we're ready.\n",
              "        channel.send({})\n",
              "        if (message.buffers) {\n",
              "          for (const buffer of message.buffers) {\n",
              "            buffers.push(buffer);\n",
              "            downloaded += buffer.byteLength;\n",
              "            progress.value = downloaded;\n",
              "          }\n",
              "        }\n",
              "      }\n",
              "      const blob = new Blob(buffers, {type: 'application/binary'});\n",
              "      const a = document.createElement('a');\n",
              "      a.href = window.URL.createObjectURL(blob);\n",
              "      a.download = filename;\n",
              "      div.appendChild(a);\n",
              "      a.click();\n",
              "      div.remove();\n",
              "    }\n",
              "  "
            ]
          },
          "metadata": {}
        },
        {
          "output_type": "display_data",
          "data": {
            "text/plain": [
              "<IPython.core.display.Javascript object>"
            ],
            "application/javascript": [
              "download(\"download_386fa105-b0d6-45bb-a16e-cf22cdaed027\", \"Variance_Total.csv\", 204)"
            ]
          },
          "metadata": {}
        }
      ]
    }
  ]
}